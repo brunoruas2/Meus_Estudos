{
 "cells": [
  {
   "cell_type": "markdown",
   "metadata": {},
   "source": [
    "# Universidade do Estado do Amazonas - Microeconomia II\n",
    "### Modelo do mercado com duas curvas de demandas lineares e monopólio\n",
    "\n",
    "Prof. Bruno de Melo Ruas\n"
   ]
  },
  {
   "cell_type": "markdown",
   "metadata": {},
   "source": [
    "## Sistemas de Equações\n",
    "\n",
    "- Curvas de Demanda Inversa Linear:  \n",
    "    - $ p_1(y_1) = 100 - y_1 $\n",
    "    - $ p_2(y_2) = 50 - y_2/2 $\n",
    "    - $ p(y_1 + y_2) = 150 - 3p $\n",
    "- Funções de Receita:\n",
    "    - $ r(y_1) = p_1(y_1)y_1 = 100y_1 + y_{1}^{2} $\n",
    "    - $ r(y_2) = p_2(y_2)y_2 = 50y_2 - y^2 $\n",
    "    - $ r(y_1) + r(y_2) = p_1(y_1)y_1 + p_2(y_2)y_2 = 100y_1 - 50y_2 + y_{1}^{2} + y_2 $\n",
    "- Função Receita Marginal: \n",
    "    - $ RMa_1(y_1) = 100 - 2y_1 $\n",
    "    - $ RMa_2(y_2) = 50 - y^2 $\n",
    "- Função Custo Total: \n",
    "    - $ c(y_1 + y_2) = CF + 20(y_1 + y_2) $\n",
    "- Função Custo Marginal: \n",
    "    - $ CMa(y1+y_2) = 20 $\n"
   ]
  },
  {
   "cell_type": "code",
   "execution_count": 6,
   "metadata": {},
   "outputs": [],
   "source": [
    "# Modulos usados\n",
    "import pandas as pd\n",
    "import numpy as np\n",
    "import matplotlib as mpl\n",
    "import matplotlib.pyplot as plt\n",
    "\n",
    "pd.options.mode.chained_assignment = None  # default='warn'\n",
    "\n",
    "plt.style.use('dark_background')\n",
    "\n",
    "# Constantes usadas nas equações:\n",
    "a1 = 100\n",
    "b1 = 1\n",
    "\n",
    "a2 = 50\n",
    "b2 = 1/2\n",
    "\n",
    "CF = 100 # custo fixo\n",
    "CV = 20 # custo variavel\n",
    "\n",
    "# Modelo\n",
    "x = np.linspace(0,100,1000) # espaco linear\n",
    "\n",
    "dem_lin1 = a1 - b1 * x\n",
    "dem_lin2 = a2 - b2 * x\n",
    "dem_lin = dem_lin1 + dem_lin2\n",
    "\n",
    "receita = (dem_lin1 * x) + (dem_lin2 * x)\n",
    "\n",
    "rec_marg1 = 100 - 2 * x\n",
    "rec_marg2 = 50 - x\n",
    "rec_marg = rec_marg1 + rec_marg2\n",
    "\n",
    "c_total = CF * x\n",
    "c_marginal = CV\n",
    "\n",
    "lucro = receita - c_total\n",
    "\n",
    "# Dataframe\n",
    "dataframe = pd.DataFrame()\n",
    "dataframe['dem_lin'] = dem_lin\n",
    "dataframe['receita'] = receita\n",
    "dataframe['rec_marg1'] = rec_marg1\n",
    "dataframe['rec_marg2'] = rec_marg2\n",
    "dataframe['rec_marg'] = rec_marg\n",
    "dataframe['c_total'] = c_total\n",
    "dataframe['c_marginal'] = c_marginal\n",
    "dataframe['lucro'] = lucro\n"
   ]
  },
  {
   "cell_type": "code",
   "execution_count": null,
   "metadata": {},
   "outputs": [],
   "source": [
    "# Gerando o gráfico\n",
    "fig = plt.figure(dpi=120)\n",
    "ax = plt.axes()\n",
    "ax.grid(color='gray',linewidth=.2)\n",
    "\n",
    "plt.subplot(2,1,1) # rows, columns, panel number\n",
    "\n",
    "plt.title('Cap 26.4 - Discriminação de Preço Grau 3')\n",
    "\n",
    "x = dataframe\n",
    "plt.plot(dataframe['quant'], dataframe['dem_lin'],'-',color='red', label='Demanda')\n",
    "plt.plot(dataframe['quant'], dataframe['rec_marg'],'-',color='blue', label='Receita Marginal')\n",
    "plt.plot(dataframe['quant'], dataframe['c_medio'],'-',color='green', label='Custo Medio')\n",
    "plt.plot(dataframe['quant'], dataframe['c_marginal'],'-',color='white', label='CMa')\n",
    "plt.legend(loc='upper right')\n",
    "plt.ylim(0,max(dataframe['dem_lin']))\n",
    "plt.xlim(0,max(y))\n",
    "\n",
    "plt.subplot(2,1,2) # rows, columns, panel number\n",
    "plt.plot(dataframe['quant'], dataframe['lucro'],'--',color='white', label='Lucro')\n",
    "plt.plot(dataframe['quant'], dataframe['c_total'],'--',color='blue', label='Custo Total')\n",
    "plt.plot(dataframe['quant'], dataframe['receita'],'--',color='red', label='Receita')\n",
    "plt.legend(loc='upper right')\n",
    "plt.ylim(0,max(dataframe['receita']))\n",
    "plt.xlim(0,max(y))\n",
    "\n",
    "plt.show()"
   ]
  }
 ],
 "metadata": {
  "interpreter": {
   "hash": "86fe660c14581cc91ac61b0fb10b74193d8a886e17307eacd884d45310f05535"
  },
  "kernelspec": {
   "display_name": "Python 3.9.2 64-bit",
   "language": "python",
   "name": "python3"
  },
  "language_info": {
   "codemirror_mode": {
    "name": "ipython",
    "version": 3
   },
   "file_extension": ".py",
   "mimetype": "text/x-python",
   "name": "python",
   "nbconvert_exporter": "python",
   "pygments_lexer": "ipython3",
   "version": "3.9.2"
  },
  "orig_nbformat": 4
 },
 "nbformat": 4,
 "nbformat_minor": 2
}
