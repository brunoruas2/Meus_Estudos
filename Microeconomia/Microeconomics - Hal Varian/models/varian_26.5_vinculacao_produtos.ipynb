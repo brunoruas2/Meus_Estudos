{
 "cells": [
  {
   "cell_type": "markdown",
   "metadata": {},
   "source": [
    "# Universidade do Estado do Amazonas - Microeconomia II\n",
    "### Vinculação de produtos\n",
    "\n",
    "Prof. Bruno de Melo Ruas\n"
   ]
  },
  {
   "cell_type": "markdown",
   "metadata": {},
   "source": [
    "Simulação da situação onde temos n tipos de consumidores com preços de reservas diferentes e um monopolista que quer maximizar o seu lucro através da precificação da cesta de 2 bens.\n",
    "\n",
    "Processos da simulação:\n",
    "- [x] Gerar uma tabela com $n$ consumidores\n",
    "- [x] Aleatoriamente atribuir um nivel de renda. $ renda_i = \\{x\\ |\\ 0 \\leq x \\leq 100\\} $\n",
    "- [x] Aleatoriamente atribuir um preço de reserva para cada um dos dois produtos em cada consumidor. Será uma fração da sua renda.\n",
    "- [ ] Praticar a precificação via preço de reserva mais baixo em cada produto.\n",
    "- [ ] Praticar a precificação do preço de reserva mais baixo em cada cesta.\n",
    "- [ ] Comparar os lucros."
   ]
  },
  {
   "cell_type": "code",
   "execution_count": 2,
   "metadata": {},
   "outputs": [],
   "source": [
    "# Modulos usados\n",
    "import random\n",
    "import numpy as np\n",
    "import pandas as pd\n",
    "import statistics as st\n",
    "import matplotlib as mpl\n",
    "import matplotlib.pyplot as plt\n",
    "\n",
    "pd.options.mode.chained_assignment = None  # default='warn'\n",
    "\n",
    "plt.style.use('dark_background')"
   ]
  },
  {
   "cell_type": "code",
   "execution_count": 3,
   "metadata": {},
   "outputs": [],
   "source": [
    "# Criando o banco com os n consumidores\n",
    "\n",
    "x = np.linspace(0,1000,1000)\n",
    "\n",
    "data = pd.DataFrame()\n",
    "data['x'] = x\n",
    "data['p_res_1'] = [random.randrange(50,101,1) for i in range(0,1000)] # preco de reserva do bem 1\n",
    "data['p_res_2'] = [random.randrange(50,101,1) for i in range(0,1000)] # preco de reserva do bem 2"
   ]
  },
  {
   "cell_type": "code",
   "execution_count": 10,
   "metadata": {},
   "outputs": [
    {
     "name": "stdout",
     "output_type": "stream",
     "text": [
      "O total de lucro foi igual a 100000.00. Que representa 0.10% do total do excedente do mercado.\n"
     ]
    }
   ],
   "source": [
    "# Lucro com estratégia de adoção do menor preço de reserva\n",
    "\n",
    "monopolio = data\n",
    "monopolio['p1'] = min(monopolio['p_res_1'])\n",
    "monopolio['p2'] = min(monopolio['p_res_2'])\n",
    "monopolio['ex1'] = monopolio['p_res_1'] - monopolio['p1']\n",
    "monopolio['ex2'] = monopolio['p_res_2'] - monopolio['p2']\n",
    "monopolio['lucro'] = monopolio['p1'] + monopolio['p2']\n",
    "monopolio['ex'] = monopolio['ex1'] + monopolio['ex2']\n",
    "\n",
    "lucro = sum(monopolio['lucro'])\n",
    "excedente = sum(monopolio['lucro'],monopolio['ex'])\n",
    "\n",
    "print('O total de lucro foi igual a {:.2f}. Que representa {:.2f}% do total do excedente do mercado.'.\\\n",
    "  format(lucro,100*lucro/sum(sum(monopolio['lucro'],monopolio['ex']))))"
   ]
  },
  {
   "cell_type": "code",
   "execution_count": 8,
   "metadata": {},
   "outputs": [
    {
     "data": {
      "text/plain": [
       "100050786"
      ]
     },
     "execution_count": 8,
     "metadata": {},
     "output_type": "execute_result"
    }
   ],
   "source": [
    "sum(sum(monopolio['lucro'],monopolio['ex']))"
   ]
  }
 ],
 "metadata": {
  "interpreter": {
   "hash": "86fe660c14581cc91ac61b0fb10b74193d8a886e17307eacd884d45310f05535"
  },
  "kernelspec": {
   "display_name": "Python 3.9.2 64-bit",
   "language": "python",
   "name": "python3"
  },
  "language_info": {
   "codemirror_mode": {
    "name": "ipython",
    "version": 3
   },
   "file_extension": ".py",
   "mimetype": "text/x-python",
   "name": "python",
   "nbconvert_exporter": "python",
   "pygments_lexer": "ipython3",
   "version": "3.9.6"
  },
  "orig_nbformat": 4
 },
 "nbformat": 4,
 "nbformat_minor": 2
}
